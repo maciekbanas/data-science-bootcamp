{
  "nbformat": 4,
  "nbformat_minor": 0,
  "metadata": {
    "colab": {
      "name": "Untitled0.ipynb",
      "provenance": [],
      "authorship_tag": "ABX9TyNo1i7taSYcHBd0b/aTAvKm",
      "include_colab_link": true
    },
    "kernelspec": {
      "name": "python3",
      "display_name": "Python 3"
    }
  },
  "cells": [
    {
      "cell_type": "markdown",
      "metadata": {
        "id": "view-in-github",
        "colab_type": "text"
      },
      "source": [
        "<a href=\"https://colab.research.google.com/github/maciekbanas/data-science-bootcamp/blob/main/01_wprowadzenie/01_numpy_intro.ipynb\" target=\"_parent\"><img src=\"https://colab.research.google.com/assets/colab-badge.svg\" alt=\"Open In Colab\"/></a>"
      ]
    },
    {
      "cell_type": "code",
      "metadata": {
        "id": "3FTdZhXMGAJT",
        "outputId": "f1f465a7-2fd1-4a62-9367-81b56ef07aeb",
        "colab": {
          "base_uri": "https://localhost:8080/"
        }
      },
      "source": [
        "print('Hello')"
      ],
      "execution_count": null,
      "outputs": [
        {
          "output_type": "stream",
          "text": [
            "Hello\n"
          ],
          "name": "stdout"
        }
      ]
    },
    {
      "cell_type": "code",
      "metadata": {
        "id": "40gSc-wR1iDd",
        "outputId": "8a973b90-46da-4d58-d02b-2528f0a1f802",
        "colab": {
          "base_uri": "https://localhost:8080/"
        }
      },
      "source": [
        "pip install numpy"
      ],
      "execution_count": null,
      "outputs": [
        {
          "output_type": "stream",
          "text": [
            "Requirement already satisfied: numpy in /usr/local/lib/python3.6/dist-packages (1.18.5)\n"
          ],
          "name": "stdout"
        }
      ]
    },
    {
      "cell_type": "code",
      "metadata": {
        "id": "FnMFVuqV1mtz"
      },
      "source": [
        "import numpy as np"
      ],
      "execution_count": 3,
      "outputs": []
    },
    {
      "cell_type": "code",
      "metadata": {
        "id": "OHvxFOd31ZX5",
        "outputId": "c8cf4ae7-7f5c-4f2c-f572-ea8f92d3b89c",
        "colab": {
          "base_uri": "https://localhost:8080/"
        }
      },
      "source": [
        "np.ones(shape=(5,5), dtype='int')"
      ],
      "execution_count": null,
      "outputs": [
        {
          "output_type": "execute_result",
          "data": {
            "text/plain": [
              "array([[1, 1, 1, 1, 1],\n",
              "       [1, 1, 1, 1, 1],\n",
              "       [1, 1, 1, 1, 1],\n",
              "       [1, 1, 1, 1, 1],\n",
              "       [1, 1, 1, 1, 1]])"
            ]
          },
          "metadata": {
            "tags": []
          },
          "execution_count": 6
        }
      ]
    },
    {
      "cell_type": "code",
      "metadata": {
        "id": "1YEucmoh2TcG",
        "outputId": "b58dd8ee-4684-44f2-8fd6-5839230bfcc0",
        "colab": {
          "base_uri": "https://localhost:8080/"
        }
      },
      "source": [
        "np.full(shape=(10,8),fill_value = 7, dtype='int')"
      ],
      "execution_count": null,
      "outputs": [
        {
          "output_type": "execute_result",
          "data": {
            "text/plain": [
              "array([[7, 7, 7, 7, 7, 7, 7, 7],\n",
              "       [7, 7, 7, 7, 7, 7, 7, 7],\n",
              "       [7, 7, 7, 7, 7, 7, 7, 7],\n",
              "       [7, 7, 7, 7, 7, 7, 7, 7],\n",
              "       [7, 7, 7, 7, 7, 7, 7, 7],\n",
              "       [7, 7, 7, 7, 7, 7, 7, 7],\n",
              "       [7, 7, 7, 7, 7, 7, 7, 7],\n",
              "       [7, 7, 7, 7, 7, 7, 7, 7],\n",
              "       [7, 7, 7, 7, 7, 7, 7, 7],\n",
              "       [7, 7, 7, 7, 7, 7, 7, 7]])"
            ]
          },
          "metadata": {
            "tags": []
          },
          "execution_count": 7
        }
      ]
    },
    {
      "cell_type": "code",
      "metadata": {
        "id": "a91GbOEq2omE",
        "outputId": "52336518-bae2-4241-c724-9d38bb3c9fa4",
        "colab": {
          "base_uri": "https://localhost:8080/"
        }
      },
      "source": [
        "np.arange(start = 5, stop = 100, step = 9)"
      ],
      "execution_count": null,
      "outputs": [
        {
          "output_type": "execute_result",
          "data": {
            "text/plain": [
              "array([ 5, 14, 23, 32, 41, 50, 59, 68, 77, 86, 95])"
            ]
          },
          "metadata": {
            "tags": []
          },
          "execution_count": 13
        }
      ]
    },
    {
      "cell_type": "code",
      "metadata": {
        "id": "XRyzImva7Fes",
        "outputId": "54f31af2-16da-492a-e704-7b11c4aefa9d",
        "colab": {
          "base_uri": "https://localhost:8080/"
        }
      },
      "source": [
        "A = np.arange(15)\n",
        "A"
      ],
      "execution_count": null,
      "outputs": [
        {
          "output_type": "execute_result",
          "data": {
            "text/plain": [
              "array([ 0,  1,  2,  3,  4,  5,  6,  7,  8,  9, 10, 11, 12, 13, 14])"
            ]
          },
          "metadata": {
            "tags": []
          },
          "execution_count": 17
        }
      ]
    },
    {
      "cell_type": "code",
      "metadata": {
        "id": "H-RwkrkM7RiE",
        "outputId": "f8bdb65b-3606-4def-ef44-bde9c1dd396a",
        "colab": {
          "base_uri": "https://localhost:8080/"
        }
      },
      "source": [
        "A.reshape((3, -1))"
      ],
      "execution_count": null,
      "outputs": [
        {
          "output_type": "execute_result",
          "data": {
            "text/plain": [
              "array([[ 0,  1,  2,  3,  4],\n",
              "       [ 5,  6,  7,  8,  9],\n",
              "       [10, 11, 12, 13, 14]])"
            ]
          },
          "metadata": {
            "tags": []
          },
          "execution_count": 20
        }
      ]
    },
    {
      "cell_type": "code",
      "metadata": {
        "id": "Nl6JKTjsAMB3",
        "outputId": "721db696-20bc-4f70-fade-cea30541c5f9",
        "colab": {
          "base_uri": "https://localhost:8080/"
        }
      },
      "source": [
        "x = np.full(shape = (5,5), fill_value = 3)\n",
        "y = np.full(shape = (5,5), fill_value = 2)\n",
        "x @ y\n",
        "print(x, '\\n', y)"
      ],
      "execution_count": null,
      "outputs": [
        {
          "output_type": "stream",
          "text": [
            "[[3 3 3 3 3]\n",
            " [3 3 3 3 3]\n",
            " [3 3 3 3 3]\n",
            " [3 3 3 3 3]\n",
            " [3 3 3 3 3]] \n",
            " [[2 2 2 2 2]\n",
            " [2 2 2 2 2]\n",
            " [2 2 2 2 2]\n",
            " [2 2 2 2 2]\n",
            " [2 2 2 2 2]]\n"
          ],
          "name": "stdout"
        }
      ]
    },
    {
      "cell_type": "code",
      "metadata": {
        "id": "pz_e5GI3Dk_a",
        "outputId": "3c3d43cd-0e72-477c-8fcb-b006b0648c5e",
        "colab": {
          "base_uri": "https://localhost:8080/"
        }
      },
      "source": [
        "np.random.randn()"
      ],
      "execution_count": null,
      "outputs": [
        {
          "output_type": "execute_result",
          "data": {
            "text/plain": [
              "-0.1959780700103187"
            ]
          },
          "metadata": {
            "tags": []
          },
          "execution_count": 29
        }
      ]
    },
    {
      "cell_type": "code",
      "metadata": {
        "id": "skcI-485DpmC",
        "outputId": "11392ae3-bfdc-4813-91c7-98f2c90616e6",
        "colab": {
          "base_uri": "https://localhost:8080/"
        }
      },
      "source": [
        "data = np.arange(10)\n",
        "data"
      ],
      "execution_count": null,
      "outputs": [
        {
          "output_type": "execute_result",
          "data": {
            "text/plain": [
              "array([0, 1, 2, 3, 4, 5, 6, 7, 8, 9])"
            ]
          },
          "metadata": {
            "tags": []
          },
          "execution_count": 32
        }
      ]
    },
    {
      "cell_type": "code",
      "metadata": {
        "id": "s2HP9NAyD0vv"
      },
      "source": [
        "np.random.shuffle(data)"
      ],
      "execution_count": null,
      "outputs": []
    },
    {
      "cell_type": "code",
      "metadata": {
        "id": "JNQtiYIoD3xE",
        "outputId": "af1ee6b3-697f-4458-cc9e-b4d4c84588da",
        "colab": {
          "base_uri": "https://localhost:8080/"
        }
      },
      "source": [
        "data"
      ],
      "execution_count": null,
      "outputs": [
        {
          "output_type": "execute_result",
          "data": {
            "text/plain": [
              "array([4, 0, 2, 1, 3, 9, 7, 8, 6, 5])"
            ]
          },
          "metadata": {
            "tags": []
          },
          "execution_count": 34
        }
      ]
    },
    {
      "cell_type": "code",
      "metadata": {
        "id": "pS5BUctuEkhj",
        "outputId": "5cb4a19e-df60-46a5-e998-589d50065d7f",
        "colab": {
          "base_uri": "https://localhost:8080/"
        }
      },
      "source": [
        "bool(0)"
      ],
      "execution_count": null,
      "outputs": [
        {
          "output_type": "execute_result",
          "data": {
            "text/plain": [
              "False"
            ]
          },
          "metadata": {
            "tags": []
          },
          "execution_count": 36
        }
      ]
    },
    {
      "cell_type": "code",
      "metadata": {
        "id": "WLSmvXWTEs3O"
      },
      "source": [
        "x = np.array([2,3,4])"
      ],
      "execution_count": null,
      "outputs": []
    },
    {
      "cell_type": "code",
      "metadata": {
        "id": "crnUnrgyE4Tq",
        "outputId": "b58d7f01-ef1e-4525-9987-b912bf83b141",
        "colab": {
          "base_uri": "https://localhost:8080/"
        }
      },
      "source": [
        "print(x)"
      ],
      "execution_count": null,
      "outputs": [
        {
          "output_type": "stream",
          "text": [
            "[2 3 4]\n"
          ],
          "name": "stdout"
        }
      ]
    },
    {
      "cell_type": "code",
      "metadata": {
        "id": "VFhGJXv4E8Tg",
        "outputId": "7f57090a-85b4-4074-bea6-cb75280847eb",
        "colab": {
          "base_uri": "https://localhost:8080/"
        }
      },
      "source": [
        "x = np.array([np.random.randint(low=10,high=100,size=8),np.random.randint(low=10,high=100,size=8)])\n",
        "print(x)"
      ],
      "execution_count": 4,
      "outputs": [
        {
          "output_type": "stream",
          "text": [
            "[[78 89 31 18 57 91 78 55]\n",
            " [71 29 15 77 59 83 75 86]]\n"
          ],
          "name": "stdout"
        }
      ]
    },
    {
      "cell_type": "code",
      "metadata": {
        "id": "FtuQuyIxFf5q",
        "outputId": "e86dd1aa-bfb8-4410-fd8f-c46166f0913b",
        "colab": {
          "base_uri": "https://localhost:8080/"
        }
      },
      "source": [
        "for row in x:\n",
        "  print(row)"
      ],
      "execution_count": 11,
      "outputs": [
        {
          "output_type": "stream",
          "text": [
            "[78 89 31 18 57 91 78 55]\n",
            "[71 29 15 77 59 83 75 86]\n"
          ],
          "name": "stdout"
        }
      ]
    },
    {
      "cell_type": "code",
      "metadata": {
        "id": "lRcLQ-MSGMCd",
        "outputId": "0f810d33-37c4-4e10-d468-ffece5e48fd1",
        "colab": {
          "base_uri": "https://localhost:8080/"
        }
      },
      "source": [
        "for item in x.flat:\n",
        "  print(item)"
      ],
      "execution_count": 13,
      "outputs": [
        {
          "output_type": "stream",
          "text": [
            "78\n",
            "89\n",
            "31\n",
            "18\n",
            "57\n",
            "91\n",
            "78\n",
            "55\n",
            "71\n",
            "29\n",
            "15\n",
            "77\n",
            "59\n",
            "83\n",
            "75\n",
            "86\n"
          ],
          "name": "stdout"
        }
      ]
    },
    {
      "cell_type": "code",
      "metadata": {
        "id": "9rQPg6qGJGrk",
        "outputId": "f3ad1475-cf72-4eb3-841a-95642a2410dc",
        "colab": {
          "base_uri": "https://localhost:8080/"
        }
      },
      "source": [
        "x.T"
      ],
      "execution_count": 14,
      "outputs": [
        {
          "output_type": "execute_result",
          "data": {
            "text/plain": [
              "array([[78, 71],\n",
              "       [89, 29],\n",
              "       [31, 15],\n",
              "       [18, 77],\n",
              "       [57, 59],\n",
              "       [91, 83],\n",
              "       [78, 75],\n",
              "       [55, 86]])"
            ]
          },
          "metadata": {
            "tags": []
          },
          "execution_count": 14
        }
      ]
    },
    {
      "cell_type": "code",
      "metadata": {
        "id": "IIS-YIPCJI1C",
        "outputId": "08b6091a-a976-49a1-f3c2-c4494458f4de",
        "colab": {
          "base_uri": "https://localhost:8080/"
        }
      },
      "source": [
        "x > 70"
      ],
      "execution_count": 17,
      "outputs": [
        {
          "output_type": "execute_result",
          "data": {
            "text/plain": [
              "array([[ True,  True, False, False, False,  True,  True, False],\n",
              "       [ True, False, False,  True, False,  True,  True,  True]])"
            ]
          },
          "metadata": {
            "tags": []
          },
          "execution_count": 17
        }
      ]
    },
    {
      "cell_type": "code",
      "metadata": {
        "id": "lybk9jEAJyIj",
        "outputId": "74bd4c5a-c336-4331-be36-bc20a5c5484a",
        "colab": {
          "base_uri": "https://localhost:8080/"
        }
      },
      "source": [
        "x[x > 50]"
      ],
      "execution_count": 18,
      "outputs": [
        {
          "output_type": "execute_result",
          "data": {
            "text/plain": [
              "array([78, 89, 57, 91, 78, 55, 71, 77, 59, 83, 75, 86])"
            ]
          },
          "metadata": {
            "tags": []
          },
          "execution_count": 18
        }
      ]
    },
    {
      "cell_type": "code",
      "metadata": {
        "id": "Ph8wLwAlJ-8X",
        "outputId": "002c8cde-41dd-46d8-b2c3-74dfc44fa0d9",
        "colab": {
          "base_uri": "https://localhost:8080/"
        }
      },
      "source": [
        "np.bitwise_and(x > 50, x < 90)"
      ],
      "execution_count": 19,
      "outputs": [
        {
          "output_type": "execute_result",
          "data": {
            "text/plain": [
              "array([[ True,  True, False, False,  True, False,  True,  True],\n",
              "       [ True, False, False,  True,  True,  True,  True,  True]])"
            ]
          },
          "metadata": {
            "tags": []
          },
          "execution_count": 19
        }
      ]
    }
  ]
}